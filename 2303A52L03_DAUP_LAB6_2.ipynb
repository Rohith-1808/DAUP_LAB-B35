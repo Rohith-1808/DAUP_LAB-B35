{
  "nbformat": 4,
  "nbformat_minor": 0,
  "metadata": {
    "colab": {
      "provenance": [],
      "gpuType": "T4",
      "include_colab_link": true
    },
    "kernelspec": {
      "name": "python3",
      "display_name": "Python 3"
    },
    "language_info": {
      "name": "python"
    },
    "accelerator": "GPU"
  },
  "cells": [
    {
      "cell_type": "markdown",
      "metadata": {
        "id": "view-in-github",
        "colab_type": "text"
      },
      "source": [
        "<a href=\"https://colab.research.google.com/github/Rohith-1808/DAUP_LAB-B35/blob/main/2303A52L03_DAUP_LAB6_2.ipynb\" target=\"_parent\"><img src=\"https://colab.research.google.com/assets/colab-badge.svg\" alt=\"Open In Colab\"/></a>"
      ]
    },
    {
      "cell_type": "code",
      "execution_count": null,
      "metadata": {
        "colab": {
          "base_uri": "https://localhost:8080/"
        },
        "id": "RdMRZBWmU6VD",
        "outputId": "c92093fe-fb6f-4050-9b6c-8f533d9df099"
      },
      "outputs": [
        {
          "output_type": "stream",
          "name": "stdout",
          "text": [
            "P(A): 0.501\n",
            "P(B): 0.311\n",
            "P(A ∪ B): 0.6400000000000001\n",
            "P(A ∩ B): 0.172\n",
            "P(A | B): 0.5530546623794211\n",
            "Probability of Health & Beauty: 0.152\n",
            "Probability of >5 items given Ewallet: 0.48695652173913045\n",
            "Probability of Cash in Yangon: 0.3235294117647059\n",
            "Probability of Member with Rating > 8: 0.157\n"
          ]
        }
      ],
      "source": [
        "import pandas as pd\n",
        "\n",
        "# Load the dataset\n",
        "df = pd.read_csv('/content/supermarket_sales -.csv')\n",
        "\n",
        "# Total number of transactions\n",
        "total_transactions = len(df)\n",
        "\n",
        "# Event A: A transaction is made by a Member customer\n",
        "event_A = df[df['Customer type'] == 'Member']\n",
        "P_A = len(event_A) / total_transactions\n",
        "\n",
        "# Event B: A transaction was made using Credit Card payment\n",
        "event_B = df[df['Payment'] == 'Credit card']\n",
        "P_B = len(event_B) / total_transactions\n",
        "\n",
        "# Event A ∩ B: A transaction is made by a Member customer using Credit Card\n",
        "event_A_and_B = df[(df['Customer type'] == 'Member') & (df['Payment'] == 'Credit card')]\n",
        "P_A_and_B = len(event_A_and_B) / total_transactions\n",
        "\n",
        "# Event A ∪ B: A transaction is made by a Member customer or using Credit Card\n",
        "P_A_or_B = P_A + P_B - P_A_and_B\n",
        "\n",
        "# Conditional Probability P(A | B)\n",
        "P_A_given_B = P_A_and_B / P_B\n",
        "\n",
        "# Probability that a randomly chosen transaction belongs to the Health & Beauty product line\n",
        "health_beauty = df[df['Product line'] == 'Health and beauty']\n",
        "P_health_beauty = len(health_beauty) / total_transactions\n",
        "\n",
        "# Given that a customer used Ewallet, what is the probability that they purchased more than 5 items?\n",
        "ewallet = df[df['Payment'] == 'Ewallet']\n",
        "ewallet_more_than_5 = ewallet[ewallet['Quantity'] > 5]\n",
        "P_ewallet_more_than_5 = len(ewallet_more_than_5) / len(ewallet)\n",
        "\n",
        "# Probability that a randomly selected transaction from Yangon used Cash as the payment method\n",
        "yangon_cash = df[(df['City'] == 'Yangon') & (df['Payment'] == 'Cash')]\n",
        "P_yangon_cash = len(yangon_cash) / len(df[df['City'] == 'Yangon'])\n",
        "\n",
        "# Probability of selecting a customer who is a Member and has given a rating above 8\n",
        "member_rating_above_8 = df[(df['Customer type'] == 'Member') & (df['Rating'] > 8)]\n",
        "P_member_rating_above_8 = len(member_rating_above_8) / total_transactions\n",
        "\n",
        "# Print results\n",
        "print(f\"P(A): {P_A}\")\n",
        "print(f\"P(B): {P_B}\")\n",
        "print(f\"P(A ∪ B): {P_A_or_B}\")\n",
        "print(f\"P(A ∩ B): {P_A_and_B}\")\n",
        "print(f\"P(A | B): {P_A_given_B}\")\n",
        "print(f\"Probability of Health & Beauty: {P_health_beauty}\")\n",
        "print(f\"Probability of >5 items given Ewallet: {P_ewallet_more_than_5}\")\n",
        "print(f\"Probability of Cash in Yangon: {P_yangon_cash}\")\n",
        "print(f\"Probability of Member with Rating > 8: {P_member_rating_above_8}\")"
      ]
    },
    {
      "cell_type": "code",
      "source": [
        "import math\n",
        "\n",
        "# Function to compute factorial\n",
        "def factorial(n):\n",
        "    return math.factorial(n)\n",
        "\n",
        "# Function to compute permutations\n",
        "def permutations(n, r):\n",
        "    return math.perm(n, r)\n",
        "\n",
        "# Function to compute combinations\n",
        "def combinations(n, r):\n",
        "    return math.comb(n, r)\n",
        "\n",
        "# Permutation: In how many different ways can 5 different transactions be arranged from a day's sales of 20 transactions?\n",
        "n_transactions = 20\n",
        "r_transactions = 5\n",
        "perm_transactions = permutations(n_transactions, r_transactions)\n",
        "print(f\"Permutations of 5 transactions from 20: {perm_transactions}\")\n",
        "\n",
        "# Combination: How many ways can 3 different product lines be selected from the 6 available product categories?\n",
        "n_product_lines = 6\n",
        "r_product_lines = 3\n",
        "comb_product_lines = combinations(n_product_lines, r_product_lines)\n",
        "print(f\"Combinations of 3 product lines from 6: {comb_product_lines}\")\n",
        "\n",
        "# Factorial: Compute the factorial of the total number of different branches in the dataset\n",
        "n_branches = df['Branch'].nunique()\n",
        "fact_branches = factorial(n_branches)\n",
        "print(f\"Factorial of number of branches: {fact_branches}\")\n",
        "\n",
        "# If the supermarket wants to display 4 different payment methods on a promotion banner from the available 3 types, in how many ways can this be done?\n",
        "n_payment_methods = df['Payment'].nunique()\n",
        "r_payment_methods = 4\n",
        "if n_payment_methods >= r_payment_methods:\n",
        "    comb_payment_methods = combinations(n_payment_methods, r_payment_methods)\n",
        "    print(f\"Combinations of 4 payment methods from {n_payment_methods}: {comb_payment_methods}\")\n",
        "else:\n",
        "    print(\"Not enough payment methods to choose from.\")\n",
        "\n",
        "# In how many different ways can 5 employees be selected to participate in a customer feedback survey from a total of 15 employees?\n",
        "n_employees = 15\n",
        "r_employees = 5\n",
        "comb_employees = combinations(n_employees, r_employees)\n",
        "print(f\"Combinations of 5 employees from 15: {comb_employees}\")\n",
        "\n",
        "# If the supermarket wants to create unique invoice codes using 6 letters from the English alphabet, in how many ways can this be achieved?\n",
        "n_letters = 26\n",
        "r_letters = 6\n",
        "perm_letters = permutations(n_letters, r_letters)\n",
        "print(f\"Permutations of 6 letters from 26: {perm_letters}\")"
      ],
      "metadata": {
        "colab": {
          "base_uri": "https://localhost:8080/"
        },
        "id": "_SlpZO5pWbHR",
        "outputId": "e2b1637d-00fd-4a90-9bdf-43cfabaa8fc2"
      },
      "execution_count": null,
      "outputs": [
        {
          "output_type": "stream",
          "name": "stdout",
          "text": [
            "Permutations of 5 transactions from 20: 1860480\n",
            "Combinations of 3 product lines from 6: 20\n",
            "Factorial of number of branches: 6\n",
            "Not enough payment methods to choose from.\n",
            "Combinations of 5 employees from 15: 3003\n",
            "Permutations of 6 letters from 26: 165765600\n"
          ]
        }
      ]
    }
  ]
}